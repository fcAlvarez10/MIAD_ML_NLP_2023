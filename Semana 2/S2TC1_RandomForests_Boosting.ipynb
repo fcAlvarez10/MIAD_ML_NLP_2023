{
 "cells": [
  {
   "cell_type": "markdown",
   "metadata": {},
   "source": [
    "![image info](https://raw.githubusercontent.com/albahnsen/MIAD_ML_and_NLP/main/images/banner_1.png)"
   ]
  },
  {
   "cell_type": "markdown",
   "metadata": {},
   "source": [
    "# Taller: Construcción e implementación de modelos Bagging, Random Forest y XGBoost\n",
    "\n",
    "En este taller podrán poner en práctica sus conocimientos sobre la construcción e implementación de modelos de Bagging, Random Forest y XGBoost. El taller está constituido por 8 puntos, en los cuales deberan seguir las intrucciones de cada numeral para su desarrollo."
   ]
  },
  {
   "cell_type": "markdown",
   "metadata": {},
   "source": [
    "## Datos predicción precio de automóviles\n",
    "\n",
    "En este taller se usará el conjunto de datos de Car Listings de Kaggle donde cada observación representa el precio de un automóvil teniendo en cuenta distintas variables como año, marca, modelo, entre otras. El objetivo es predecir el precio del automóvil. Para más detalles puede visitar el siguiente enlace: [datos](https://www.kaggle.com/jpayne/852k-used-car-listings)."
   ]
  },
  {
   "cell_type": "code",
   "execution_count": 2,
   "metadata": {},
   "outputs": [],
   "source": [
    "import warnings\n",
    "warnings.filterwarnings('ignore')"
   ]
  },
  {
   "cell_type": "code",
   "execution_count": 3,
   "metadata": {},
   "outputs": [
    {
     "data": {
      "text/html": [
       "<div>\n",
       "<style scoped>\n",
       "    .dataframe tbody tr th:only-of-type {\n",
       "        vertical-align: middle;\n",
       "    }\n",
       "\n",
       "    .dataframe tbody tr th {\n",
       "        vertical-align: top;\n",
       "    }\n",
       "\n",
       "    .dataframe thead th {\n",
       "        text-align: right;\n",
       "    }\n",
       "</style>\n",
       "<table border=\"1\" class=\"dataframe\">\n",
       "  <thead>\n",
       "    <tr style=\"text-align: right;\">\n",
       "      <th></th>\n",
       "      <th>Price</th>\n",
       "      <th>Year</th>\n",
       "      <th>Mileage</th>\n",
       "      <th>M_Camry</th>\n",
       "      <th>M_Camry4dr</th>\n",
       "      <th>M_CamryBase</th>\n",
       "      <th>M_CamryL</th>\n",
       "      <th>M_CamryLE</th>\n",
       "      <th>M_CamrySE</th>\n",
       "      <th>M_CamryXLE</th>\n",
       "    </tr>\n",
       "  </thead>\n",
       "  <tbody>\n",
       "    <tr>\n",
       "      <th>7</th>\n",
       "      <td>21995</td>\n",
       "      <td>2014</td>\n",
       "      <td>6480</td>\n",
       "      <td>0</td>\n",
       "      <td>0</td>\n",
       "      <td>0</td>\n",
       "      <td>1</td>\n",
       "      <td>0</td>\n",
       "      <td>0</td>\n",
       "      <td>0</td>\n",
       "    </tr>\n",
       "    <tr>\n",
       "      <th>11</th>\n",
       "      <td>13995</td>\n",
       "      <td>2014</td>\n",
       "      <td>39972</td>\n",
       "      <td>0</td>\n",
       "      <td>0</td>\n",
       "      <td>0</td>\n",
       "      <td>0</td>\n",
       "      <td>1</td>\n",
       "      <td>0</td>\n",
       "      <td>0</td>\n",
       "    </tr>\n",
       "    <tr>\n",
       "      <th>167</th>\n",
       "      <td>17941</td>\n",
       "      <td>2016</td>\n",
       "      <td>18989</td>\n",
       "      <td>0</td>\n",
       "      <td>0</td>\n",
       "      <td>0</td>\n",
       "      <td>0</td>\n",
       "      <td>0</td>\n",
       "      <td>1</td>\n",
       "      <td>0</td>\n",
       "    </tr>\n",
       "    <tr>\n",
       "      <th>225</th>\n",
       "      <td>12493</td>\n",
       "      <td>2014</td>\n",
       "      <td>51330</td>\n",
       "      <td>0</td>\n",
       "      <td>0</td>\n",
       "      <td>0</td>\n",
       "      <td>1</td>\n",
       "      <td>0</td>\n",
       "      <td>0</td>\n",
       "      <td>0</td>\n",
       "    </tr>\n",
       "    <tr>\n",
       "      <th>270</th>\n",
       "      <td>7994</td>\n",
       "      <td>2007</td>\n",
       "      <td>116065</td>\n",
       "      <td>0</td>\n",
       "      <td>1</td>\n",
       "      <td>0</td>\n",
       "      <td>0</td>\n",
       "      <td>0</td>\n",
       "      <td>0</td>\n",
       "      <td>0</td>\n",
       "    </tr>\n",
       "  </tbody>\n",
       "</table>\n",
       "</div>"
      ],
      "text/plain": [
       "     Price  Year  Mileage  M_Camry  M_Camry4dr  M_CamryBase  M_CamryL  \\\n",
       "7    21995  2014     6480        0           0            0         1   \n",
       "11   13995  2014    39972        0           0            0         0   \n",
       "167  17941  2016    18989        0           0            0         0   \n",
       "225  12493  2014    51330        0           0            0         1   \n",
       "270   7994  2007   116065        0           1            0         0   \n",
       "\n",
       "     M_CamryLE  M_CamrySE  M_CamryXLE  \n",
       "7            0          0           0  \n",
       "11           1          0           0  \n",
       "167          0          1           0  \n",
       "225          0          0           0  \n",
       "270          0          0           0  "
      ]
     },
     "execution_count": 3,
     "metadata": {},
     "output_type": "execute_result"
    }
   ],
   "source": [
    "# Importación de librerías\n",
    "%matplotlib inline\n",
    "import pandas as pd\n",
    "\n",
    "# Lectura de la información de archivo .csv\n",
    "data = pd.read_csv('https://raw.githubusercontent.com/albahnsen/MIAD_ML_and_NLP/main/datasets/dataTrain_carListings.zip')\n",
    "\n",
    "# Preprocesamiento de datos para el taller\n",
    "data = data.loc[data['Model'].str.contains('Camry')].drop(['Make', 'State'], axis=1)\n",
    "data = data.join(pd.get_dummies(data['Model'], prefix='M'))\n",
    "data = data.drop(['Model'], axis=1)\n",
    "\n",
    "# Visualización dataset\n",
    "data.head()"
   ]
  },
  {
   "cell_type": "code",
   "execution_count": 6,
   "metadata": {},
   "outputs": [],
   "source": [
    "# Separación de variables predictoras (X) y variable de interés (y)\n",
    "y = data['Price']\n",
    "X = data.drop(['Price'], axis=1)"
   ]
  },
  {
   "cell_type": "code",
   "execution_count": 5,
   "metadata": {},
   "outputs": [],
   "source": [
    "# Separación de datos en set de entrenamiento y test\n",
    "from sklearn.model_selection import train_test_split\n",
    "X_train, X_test, y_train, y_test = train_test_split(X, y, test_size=0.33, random_state=42)"
   ]
  },
  {
   "cell_type": "code",
   "execution_count": 55,
   "metadata": {},
   "outputs": [],
   "source": [
    "from sklearn.ensemble import RandomForestRegressor\n",
    "from sklearn.metrics import mean_squared_error, mean_absolute_error\n",
    "from sklearn.model_selection import RandomizedSearchCV\n",
    "import xgboost as xgb\n",
    "import numpy as np\n",
    "from sklearn.tree import DecisionTreeRegressor\n",
    "from sklearn.ensemble import BaggingRegressor\n",
    "from math import log2\n",
    "import matplotlib.pyplot as plt"
   ]
  },
  {
   "cell_type": "markdown",
   "metadata": {},
   "source": [
    "### Punto 1 - Árbol de decisión manual\n",
    "\n",
    "En la celda 1 creen un árbol de decisión **manualmente**  que considere los set de entrenamiento y test definidos anteriormente y presenten el RMSE y MAE del modelo en el set de test."
   ]
  },
  {
   "cell_type": "code",
   "execution_count": 58,
   "metadata": {},
   "outputs": [],
   "source": [
    "# Definición de parámetros y criterios de parada\n",
    "max_depth = None\n",
    "num_pct = 40\n",
    "max_features = None\n",
    "min_gain=0.001"
   ]
  },
  {
   "cell_type": "code",
   "execution_count": 59,
   "metadata": {},
   "outputs": [
    {
     "name": "stdout",
     "output_type": "stream",
     "text": [
      "Mileage\n"
     ]
    }
   ],
   "source": [
    "# Impresión variable a usar\n",
    "j = 1\n",
    "print(X.columns[j])"
   ]
  },
  {
   "cell_type": "code",
   "execution_count": 60,
   "metadata": {},
   "outputs": [
    {
     "name": "stdout",
     "output_type": "stream",
     "text": [
      "[5.0000000e+00 6.4580500e+03 1.0470000e+04 1.3352350e+04 1.5764400e+04\n",
      " 1.8086250e+04 2.0000300e+04 2.1561800e+04 2.3458600e+04 2.4955300e+04\n",
      " 2.6461000e+04 2.8111850e+04 2.9937600e+04 3.1479600e+04 3.2926700e+04\n",
      " 3.4304000e+04 3.5700800e+04 3.7083350e+04 3.8720800e+04 4.0265550e+04\n",
      " 4.1680000e+04 4.3212750e+04 4.4793400e+04 4.6274150e+04 4.8247000e+04\n",
      " 5.0563000e+04 5.3527100e+04 5.7630900e+04 6.1716000e+04 6.6410700e+04\n",
      " 7.1355500e+04 7.6730300e+04 8.1534200e+04 8.7284150e+04 9.2865000e+04\n",
      " 9.9207000e+04 1.0675780e+05 1.1619845e+05 1.2761000e+05 1.4629880e+05]\n"
     ]
    }
   ],
   "source": [
    "splits = np.percentile(X.iloc[:, j], np.arange(0, 100, 100.0 / num_pct).tolist())\n",
    "splits = np.unique(splits)\n",
    "print(splits)"
   ]
  },
  {
   "cell_type": "code",
   "execution_count": 61,
   "metadata": {},
   "outputs": [],
   "source": [
    "k=10\n",
    "filter_l = X.iloc[:, j] < splits[k]\n",
    "\n",
    "# División de la variable de respuesta de acuerdo a si la observación cumple o no con la regla binaria\n",
    "# y_l: la observación tiene un valor menor al punto de corte seleccionado\n",
    "# y_r: la observación tiene un valor mayor o igual al punto de corte seleccionado\n",
    "y_l = y.loc[filter_l]\n",
    "y_r = y.loc[~filter_l]"
   ]
  },
  {
   "cell_type": "code",
   "execution_count": 62,
   "metadata": {},
   "outputs": [],
   "source": [
    "# Definición de la función que calcula el gini index\n",
    "def gini(y):\n",
    "    if y.shape[0] == 0:\n",
    "        return 0\n",
    "    else:\n",
    "        return 1 - (y.mean()**2 + (1 - y.mean())**2)"
   ]
  },
  {
   "cell_type": "code",
   "execution_count": 63,
   "metadata": {},
   "outputs": [
    {
     "data": {
      "text/plain": [
       "-653088556.9195423"
      ]
     },
     "execution_count": 63,
     "metadata": {},
     "output_type": "execute_result"
    }
   ],
   "source": [
    "# Gini index de las observaciones que tienen un valor menor al punto de corte seleccionado\n",
    "gini_l = gini(y_l)\n",
    "gini_l"
   ]
  },
  {
   "cell_type": "code",
   "execution_count": 64,
   "metadata": {},
   "outputs": [
    {
     "data": {
      "text/plain": [
       "-356990419.20446926"
      ]
     },
     "execution_count": 64,
     "metadata": {},
     "output_type": "execute_result"
    }
   ],
   "source": [
    "# Gini index de las observaciones que tienen un valor mayor o igual al punto de corte seleccionado\n",
    "gini_r = gini(y_r)\n",
    "gini_r"
   ]
  },
  {
   "cell_type": "code",
   "execution_count": 65,
   "metadata": {},
   "outputs": [],
   "source": [
    "# Definición de la función gini_imputiry para calular la ganancia de una variable predictora j dado el punto de corte k\n",
    "def gini_impurity(X_col, y, split):\n",
    "    \n",
    "    filter_l = X_col < split\n",
    "    y_l = y.loc[filter_l]\n",
    "    y_r = y.loc[~filter_l]\n",
    "    \n",
    "    n_l = y_l.shape[0]\n",
    "    n_r = y_r.shape[0]\n",
    "    \n",
    "    gini_y = gini(y)\n",
    "    gini_l = gini(y_l)\n",
    "    gini_r = gini(y_r)\n",
    "    \n",
    "    gini_impurity_ = gini_y - (n_l / (n_l + n_r) * gini_l + n_r / (n_l + n_r) * gini_r)\n",
    "    \n",
    "    return gini_impurity_"
   ]
  },
  {
   "cell_type": "code",
   "execution_count": 66,
   "metadata": {},
   "outputs": [
    {
     "data": {
      "text/plain": [
       "8320718.533031642"
      ]
     },
     "execution_count": 66,
     "metadata": {},
     "output_type": "execute_result"
    }
   ],
   "source": [
    "# Ganancia de la variable 'mileage' en el punto de corte selecionado\n",
    "gini_impurity(X.iloc[:, j], y, splits[k])"
   ]
  },
  {
   "cell_type": "code",
   "execution_count": 67,
   "metadata": {},
   "outputs": [],
   "source": [
    "# Definición de la función best_split para calcular cuál es la mejor variable y punto de cortepara hacer la bifurcación del árbol\n",
    "def best_split(X, y, num_pct=10):\n",
    "    \n",
    "    features = range(X.shape[1])\n",
    "    \n",
    "    best_split = [0, 0, 0]  # j, split, gain\n",
    "    \n",
    "    # Para todas las variables\n",
    "    for j in features:\n",
    "        \n",
    "        \n",
    "        splits = np.percentile(X.iloc[:, j], np.arange(0, 100, 100.0 / (num_pct+1)).tolist())\n",
    "        splits = np.unique(splits)[1:]\n",
    "        \n",
    "        # Para cada partición\n",
    "        for split in splits:\n",
    "            gain = gini_impurity(X.iloc[:, j], y, split)\n",
    "                        \n",
    "            if gain > best_split[2]:\n",
    "                best_split = [j, split, gain]\n",
    "    \n",
    "    return best_split\n"
   ]
  },
  {
   "cell_type": "code",
   "execution_count": 68,
   "metadata": {},
   "outputs": [
    {
     "data": {
      "text/plain": [
       "(0, 2014.0, 17349239.621991813)"
      ]
     },
     "execution_count": 68,
     "metadata": {},
     "output_type": "execute_result"
    }
   ],
   "source": [
    "# Obtención de la variable 'j', su punto de corte 'split' y su ganancia 'gain'\n",
    "j, split, gain = best_split(X, y, 5)\n",
    "j, split, gain"
   ]
  },
  {
   "cell_type": "code",
   "execution_count": 69,
   "metadata": {},
   "outputs": [],
   "source": [
    "# División de las observaciones usando la mejor variable 'j' y su punto de corte 'split'\n",
    "filter_l = X.iloc[:, j] < split\n",
    "\n",
    "y_l = y.loc[filter_l]\n",
    "y_r = y.loc[~filter_l]"
   ]
  },
  {
   "cell_type": "code",
   "execution_count": 70,
   "metadata": {},
   "outputs": [
    {
     "data": {
      "text/plain": [
       "(10495, 3356, 7139)"
      ]
     },
     "execution_count": 70,
     "metadata": {},
     "output_type": "execute_result"
    }
   ],
   "source": [
    "y.shape[0], y_l.shape[0], y_r.shape[0]"
   ]
  },
  {
   "cell_type": "code",
   "execution_count": 71,
   "metadata": {},
   "outputs": [
    {
     "data": {
      "text/plain": [
       "(14538.403716055265, 10242.713647199047, 16557.781201848997)"
      ]
     },
     "execution_count": 71,
     "metadata": {},
     "output_type": "execute_result"
    }
   ],
   "source": [
    "y.mean(), y_l.mean(), y_r.mean()"
   ]
  },
  {
   "cell_type": "code",
   "execution_count": 72,
   "metadata": {},
   "outputs": [],
   "source": [
    "# Definición de la función tree_grow para hacer un crecimiento recursivo del árbol\n",
    "def tree_grow(X, y, level=0, min_gain=0.001, max_depth=None, num_pct=10):\n",
    "    \n",
    "    # Si solo es una observación\n",
    "    if X.shape[0] == 1:\n",
    "        tree = dict(y_pred=y.iloc[:1].values[0], y_prob=0.5, level=level, split=-1, n_samples=1, gain=0)\n",
    "        return tree\n",
    "    \n",
    "    # Calcular la mejor división\n",
    "    j, split, gain = best_split(X, y, num_pct)\n",
    "    \n",
    "    # Guardar el árbol y estimar la predicción\n",
    "    y_pred = int(y.mean() >= 0.5) \n",
    "    y_prob = (y.sum() + 1.0) / (y.shape[0] + 2.0)  # Corrección Laplace \n",
    "    \n",
    "    tree = dict(y_pred=y_pred, y_prob=y_prob, level=level, split=-1, n_samples=X.shape[0], gain=gain)\n",
    "    # Revisar el criterio de parada \n",
    "    if gain < min_gain:\n",
    "        return tree\n",
    "    if max_depth is not None:\n",
    "        if level >= max_depth:\n",
    "            return tree   \n",
    "    \n",
    "    # Continuar creando la partición\n",
    "    filter_l = X.iloc[:, j] < split\n",
    "    X_l, y_l = X.loc[filter_l], y.loc[filter_l]\n",
    "    X_r, y_r = X.loc[~filter_l], y.loc[~filter_l]\n",
    "    tree['split'] = [j, split]\n",
    "\n",
    "    # Siguiente iteración para cada partición\n",
    "    \n",
    "    tree['sl'] = tree_grow(X_l, y_l, level + 1, min_gain=min_gain, max_depth=max_depth, num_pct=num_pct)\n",
    "    tree['sr'] = tree_grow(X_r, y_r, level + 1, min_gain=min_gain, max_depth=max_depth, num_pct=num_pct)\n",
    "    \n",
    "    return tree"
   ]
  },
  {
   "cell_type": "code",
   "execution_count": null,
   "metadata": {},
   "outputs": [],
   "source": [
    "tree = tree_grow(X_train, y_train, level=0, min_gain=0.001, max_depth=40, num_pct=40)\n",
    "tree"
   ]
  },
  {
   "cell_type": "code",
   "execution_count": 80,
   "metadata": {},
   "outputs": [
    {
     "name": "stdout",
     "output_type": "stream",
     "text": [
      "RMSE: 3751.0606693584486\n",
      "MAE: 2105.8322748267897\n"
     ]
    }
   ],
   "source": [
    "# Función para hacer predicciones usando el árbol de decisión\n",
    "def predict_tree(tree, X):\n",
    "    predictions = []\n",
    "    for _, row in X.iterrows():\n",
    "        predictions.append(predict_tree_recursive(tree, row))\n",
    "    return predictions\n",
    "\n",
    "# Función para predecir recursivamente el valor de la variable objetivo usando el árbol de decisión\n",
    "def predict_tree_recursive(tree, row):\n",
    "    if tree['split'] == -1:\n",
    "        return tree['y_pred']\n",
    "    else:\n",
    "        if row[tree['split'][0]] < tree['split'][1]:\n",
    "            return predict_tree_recursive(tree['sl'], row)\n",
    "        else:\n",
    "            return predict_tree_recursive(tree['sr'], row)\n",
    "\n",
    "# Hacer predicciones en los datos de prueba\n",
    "y_pred = predict_tree(tree, X_test)\n",
    "\n",
    "# Calcular el RMSE y el MAE\n",
    "rmse_arbol_manual = mean_squared_error(y_test, y_pred, squared=False)\n",
    "mae_arbol_manual = mean_absolute_error(y_test, y_pred)\n",
    "\n",
    "print(\"RMSE:\", rmse_arbol_manual)\n",
    "print(\"MAE:\", mae_arbol_manual)\n"
   ]
  },
  {
   "cell_type": "markdown",
   "metadata": {},
   "source": [
    "El RMSE que obtuvimos de aproximadamente 3751.06 y el MAE de aproximadamente 2105.83 nos dan una medida del error promedio de nuestras predicciones del valor del precio de los automóviles, para este caso, el RMSE nos indica que en promedio, nuestras predicciones están desviadas en alrededor de 3751.06 del valor real, mientras que el MAE nos indica que en promedio estamos desviados en alrededor de 2105.83."
   ]
  },
  {
   "cell_type": "markdown",
   "metadata": {},
   "source": [
    "### Punto 2 - Bagging manual\n",
    "\n",
    "En la celda 2 creen un modelo bagging **manualmente** con 10 árboles de regresión y comenten sobre el desempeño del modelo."
   ]
  },
  {
   "cell_type": "code",
   "execution_count": 75,
   "metadata": {},
   "outputs": [
    {
     "name": "stdout",
     "output_type": "stream",
     "text": [
      "Árbol 0 tiene un error: 2141.613353645869\n",
      "Árbol 1 tiene un error: 2136.3519863123465\n",
      "Árbol 2 tiene un error: 2122.718759132052\n",
      "Árbol 3 tiene un error: 2087.278992468617\n",
      "Árbol 4 tiene un error: 2168.518742842026\n",
      "Árbol 5 tiene un error: 2113.8811455834793\n",
      "Árbol 6 tiene un error: 2127.933470769012\n",
      "Árbol 7 tiene un error: 2184.414847251443\n",
      "Árbol 8 tiene un error: 2138.1071697514985\n",
      "Árbol 9 tiene un error: 2132.097520859104\n",
      "RMSE al promediar las predicciones de todos los árboles: 1796.4355868399332\n",
      "MAE al promediar las predicciones de todos los árboles: 1340.0160739030025\n"
     ]
    }
   ],
   "source": [
    "# Paso 1: Crear las muestras de bootstrap\n",
    "np.random.seed(123)\n",
    "n_samples = X_train.shape[0]\n",
    "n_B = 10\n",
    "samples = [np.random.choice(a=n_samples, size=n_samples, replace=True) for _ in range(n_B)]\n",
    "\n",
    "# Paso 2: Entrenar un árbol de decisión para cada muestra bootstrap y hacer predicciones\n",
    "y_pred = np.zeros((len(X_test), n_B))  # Inicializar una matriz para guardar las predicciones\n",
    "\n",
    "for i, sample in enumerate(samples):\n",
    "    X_train_boot = X_train.iloc[sample]\n",
    "    y_train_boot = y_train.iloc[sample]\n",
    "    tree_reg = DecisionTreeRegressor(max_depth=None, random_state=123)\n",
    "    tree_reg.fit(X_train_boot, y_train_boot)\n",
    "    y_pred[:, i] = tree_reg.predict(X_test)\n",
    "\n",
    "# Paso 3: Evaluar el desempeño de cada árbol\n",
    "for i in range(n_B):\n",
    "    print('Árbol', i, 'tiene un error:', np.sqrt(mean_squared_error(y_pred[:, i], y_test)))\n",
    "\n",
    "# Paso 4: Calcular las predicciones promedio de todos los árboles\n",
    "y_pred_avg = np.mean(y_pred, axis=1)\n",
    "\n",
    "# Paso 5: Evaluar el error al promediar las predicciones de todos los árboles\n",
    "rmse_avg = np.sqrt(mean_squared_error(y_pred_avg, y_test))\n",
    "mae_avg = mean_absolute_error(y_pred_avg, y_test)\n",
    "\n",
    "print('RMSE al promediar las predicciones de todos los árboles:', rmse_avg)\n",
    "print('MAE al promediar las predicciones de todos los árboles:', mae_avg)\n",
    "\n",
    "# Guardar el RMSE y el MAE en variables\n",
    "rmse_bagging_manual = rmse_avg\n",
    "mae_bagging_manual = mae_avg\n"
   ]
  },
  {
   "cell_type": "markdown",
   "metadata": {},
   "source": [
    "De acuerdo con los anteriores resultados del baggin manual, observamos que cada árbol individualmente tiene errores diferentes, lo que es esperado ya que cada uno se entrena en una muestra bootstrap diferente, pero al promediar las predicciones de todos los árboles, observamos una disminución significativa en el error RMSE y MAE, lo que indica que el modelo Bagging está reduciendo la varianza y mejorando la generalización en comparación con un solo árbol de decisión. Por lo tanto, esta técnica de ensamblado ha logrado mejorar la precisión del modelo y ha demostrado ser efectiva para este problema de regresión."
   ]
  },
  {
   "cell_type": "markdown",
   "metadata": {},
   "source": [
    "### Punto 3 - Bagging con librería\n",
    "\n",
    "En la celda 3, con la librería sklearn, entrenen un modelo bagging con 10 árboles de regresión y el parámetro `max_features` igual a `log(n_features)` y comenten sobre el desempeño del modelo."
   ]
  },
  {
   "cell_type": "code",
   "execution_count": 76,
   "metadata": {},
   "outputs": [
    {
     "name": "stdout",
     "output_type": "stream",
     "text": [
      "RMSE: 2013.353269091173\n",
      "MAE: 1523.7936523039218\n"
     ]
    }
   ],
   "source": [
    "# Crear el modelo DecisionTreeRegressor base\n",
    "base_model = DecisionTreeRegressor()\n",
    "\n",
    "# Calcular el número de características para max_features\n",
    "n_features = X_train.shape[1]\n",
    "max_features = int(log2(n_features))\n",
    "\n",
    "# Crear el modelo BaggingRegressor personalizado\n",
    "bagging_model = BaggingRegressor(base_model, \n",
    "                                 n_estimators=10,  # Número de árboles\n",
    "                                 max_features=max_features,  # Máximo número de características\n",
    "                                 random_state=1)  # Semilla aleatoria para reproducibilidad\n",
    "\n",
    "# Entrenar el modelo con los datos de entrenamiento\n",
    "bagging_model.fit(X_train, y_train)\n",
    "\n",
    "# Realizar predicciones en el conjunto de prueba\n",
    "y_pred = bagging_model.predict(X_test)\n",
    "\n",
    "# Calcular el RMSE\n",
    "rmse_lib = np.sqrt(mean_squared_error(y_test, y_pred))\n",
    "\n",
    "# Calcular el MAE\n",
    "mae_lib = mean_absolute_error(y_test, y_pred)\n",
    "\n",
    "print(\"RMSE:\", rmse_lib)\n",
    "print(\"MAE:\", mae_lib)\n",
    "\n",
    "rmse_bagging_libreria = rmse_lib\n",
    "mae_bagging_libreria = mae_lib\n"
   ]
  },
  {
   "cell_type": "markdown",
   "metadata": {},
   "source": [
    "Al hacer uso de la librería, únicamente se le indican los parámetros a utilizar, para este caso sé específica el logaritmo en base dos para conocer el número máximo de características a utilizar y se indica que el número de estimadores es 10, siendo este la cantidad de modelos para el ensamblaje. \n",
    "\n",
    "Como medidas de desempeño se utiliza el RMSE, con un resultado de 2013.35 y un MAE de 1523.79. "
   ]
  },
  {
   "cell_type": "markdown",
   "metadata": {},
   "source": [
    "### Punto 4 - Random forest con librería\n",
    "\n",
    "En la celda 4, usando la librería sklearn entrenen un modelo de Randon Forest para regresión  y comenten sobre el desempeño del modelo."
   ]
  },
  {
   "cell_type": "code",
   "execution_count": 42,
   "metadata": {},
   "outputs": [
    {
     "data": {
      "text/plain": [
       "3116678.915374798"
      ]
     },
     "execution_count": 42,
     "metadata": {},
     "output_type": "execute_result"
    }
   ],
   "source": [
    "# Celda 4\n",
    "rf_base = RandomForestRegressor(n_estimators=100, max_depth=None, min_samples_split=2, random_state=42)\n",
    "rf_base.fit(X_train, y_train)\n",
    "y_pred_rfb = rf_base.predict(X_test)"
   ]
  },
  {
   "cell_type": "code",
   "execution_count": 51,
   "metadata": {},
   "outputs": [
    {
     "data": {
      "text/plain": [
       "(1765.4118259983413, 1314.4207078056425)"
      ]
     },
     "execution_count": 51,
     "metadata": {},
     "output_type": "execute_result"
    }
   ],
   "source": [
    "rmse_4_rf = np.sqrt(mean_squared_error(y_pred_rfb, y_test))\n",
    "mae_4_rf = mean_absolute_error(y_pred_rfb, y_test)\n",
    "rmse_4_rf,mae_4_rf"
   ]
  },
  {
   "cell_type": "markdown",
   "metadata": {},
   "source": [
    "Se creó un modelo de RandomForest para regresión con los siguientes parámetros: (n_estimators=100, max_depth=None, min_samples_split=2, random_state=42). \n",
    "\n",
    "Se entrenó el modelo con la muestra de entranamiento y se realizó la predicción con los datos de prueba, obteniendo un RMSE de 1765,41 y un MAE de 1314,4."
   ]
  },
  {
   "cell_type": "markdown",
   "metadata": {},
   "source": [
    "### Punto 5 - Calibración de parámetros Random forest\n",
    "\n",
    "En la celda 5, calibren los parámetros max_depth, max_features y n_estimators del modelo de Randon Forest para regresión, comenten sobre el desempeño del modelo y describan cómo cada parámetro afecta el desempeño del modelo."
   ]
  },
  {
   "cell_type": "code",
   "execution_count": null,
   "metadata": {},
   "outputs": [],
   "source": [
    "# Celda 5\n",
    "parametros = {\n",
    "    'n_estimators': [100, 200, 300, 400, 500],\n",
    "    'max_depth': [10, 20, 30, 40, 50, None],\n",
    "    'max_features': ['sqrt', 'log2', None]\n",
    "}\n",
    "rf_5 = RandomForestRegressor(random_state=42)\n",
    "rf_random = RandomizedSearchCV(estimator=rf_5,\n",
    "                               param_distributions=parametros,\n",
    "                               n_iter=100,     \n",
    "                               cv=10,          \n",
    "                               verbose=2,      \n",
    "                               random_state=42,\n",
    "                               scoring='neg_mean_squared_error')\n",
    "\n",
    "rf_random.fit(X_train, y_train)\n",
    "\n",
    "params_rf_random = rf_random.best_params_\n",
    "score_rf_random  = -rf_random.best_score_\n",
    "(params_rf_random, score_rf_random)"
   ]
  },
  {
   "cell_type": "code",
   "execution_count": 52,
   "metadata": {},
   "outputs": [
    {
     "data": {
      "text/plain": [
       "(1564.0053686456856, 1146.3575827164323)"
      ]
     },
     "execution_count": 52,
     "metadata": {},
     "output_type": "execute_result"
    }
   ],
   "source": [
    "y_pred_rf5 = rf_random.best_estimator_.predict(X_test)\n",
    "rmse_5_rf = np.sqrt(mean_squared_error(y_pred_rf5, y_test))\n",
    "mae_5_rf = mean_absolute_error(y_pred_rf5, y_test)\n",
    "rmse_5_rf,mae_5_rf"
   ]
  },
  {
   "cell_type": "markdown",
   "metadata": {},
   "source": [
    "Se realizó una busqueda aleatoria con validación cruzada de los parámetros indicados obteniendo los siguientes valores:\n",
    "* n_estimators: 500\n",
    "* max_features: sqrt\n",
    "* max_depth: 10\n",
    "\n",
    "Un mayor número de árboles (500) generalmente mejora la precisión del modelo porque las predicciones son el resultado de un promedio más grande y más estable de los árboles individuales. La selección de la raíz cuadrada para max_features ayuda a asegurar que los árboles del bosque sean diversos y que el modelo sea robusto, reduciendo el riesgo de sobreajuste. Un valor de 10 para max_depth permite que los árboles crezcan lo suficientemente profundos para capturar suficientemente las complejidades de los datos, pero no tan profundos como para aprender el ruido presente en ellos. \n",
    "\n",
    "El resultado fue de un RMSE de 1564.00 y un MAE de 1146.35"
   ]
  },
  {
   "cell_type": "markdown",
   "metadata": {},
   "source": [
    "### Punto 6 - XGBoost con librería\n",
    "\n",
    "En la celda 6 implementen un modelo XGBoost de regresión con la librería sklearn y comenten sobre el desempeño del modelo."
   ]
  },
  {
   "cell_type": "code",
   "execution_count": 47,
   "metadata": {},
   "outputs": [],
   "source": [
    "# Celda 6\n",
    "dtrain = xgb.DMatrix(X_train, label=y_train)\n",
    "dtest = xgb.DMatrix(X_test, label=y_test)\n",
    "\n",
    "parametros = {\n",
    "    'max_depth': 1,\n",
    "    'learning_rate': 0.5\n",
    "}\n",
    "xgb_6 = xgb.train(parametros ,dtrain,100)"
   ]
  },
  {
   "cell_type": "code",
   "execution_count": 53,
   "metadata": {},
   "outputs": [
    {
     "data": {
      "text/plain": [
       "(1587.6367732476585, 1181.3621173532676)"
      ]
     },
     "execution_count": 53,
     "metadata": {},
     "output_type": "execute_result"
    }
   ],
   "source": [
    "y_pred_xgb_6 = xgb_6.predict(dtest)\n",
    "rmse_6_rf = np.sqrt(mean_squared_error(y_pred_xgb_6, y_test))\n",
    "mae_6_rf = mean_absolute_error(y_pred_xgb_6, y_test)\n",
    "rmse_6_rf,mae_6_rf"
   ]
  },
  {
   "cell_type": "markdown",
   "metadata": {},
   "source": [
    "Al entrenar el modelo de XGBoost con unos parámetros base de 'max_depth': 1 y 'learning_rate': 0.5 se obtuvo un RMSE de 1587.63 y un MAE de 1181.36"
   ]
  },
  {
   "cell_type": "markdown",
   "metadata": {},
   "source": [
    "### Punto 7 - Calibración de parámetros XGBoost\n",
    "\n",
    "En la celda 7 calibren los parámetros learning rate, gamma y colsample_bytree del modelo XGBoost para regresión, comenten sobre el desempeño del modelo y describan cómo cada parámetro afecta el desempeño del modelo."
   ]
  },
  {
   "cell_type": "code",
   "execution_count": null,
   "metadata": {},
   "outputs": [],
   "source": [
    "# Celda 7\n",
    "xgb_7 = xgb.XGBRegressor()\n",
    "parametros = {\n",
    "    'learning_rate': [0.065, 0.07, 0.075, 0.08, 0.085],\n",
    "    'gamma': [0.75, 0.775, 0.8, 0.825, 0.85],\n",
    "    'colsample_bytree': [0.55, 0.575, 0.6, 0.625, 0.65]\n",
    "}\n",
    "xgb_random = RandomizedSearchCV(\n",
    "    estimator=xgb_7,\n",
    "    param_distributions=parametros,\n",
    "    n_iter=1000,\n",
    "    scoring='neg_mean_squared_error',\n",
    "    cv=5,\n",
    "    verbose=2,\n",
    "    random_state=42\n",
    ")\n",
    "xgb_random.fit(X_train, y_train)\n",
    "params_7_xgb = xgb_random.best_params_\n",
    "score_7_xgb = -xgb_random.best_score_\n",
    "(params_7_xgb, score_7_xgb)"
   ]
  },
  {
   "cell_type": "code",
   "execution_count": 54,
   "metadata": {},
   "outputs": [
    {
     "data": {
      "text/plain": [
       "(1542.415028914825, 1133.677544644468)"
      ]
     },
     "execution_count": 54,
     "metadata": {},
     "output_type": "execute_result"
    }
   ],
   "source": [
    "y_pred_7_xgb = xgb_random.best_estimator_.predict(X_test)\n",
    "rmse_7_rf = np.sqrt(mean_squared_error(y_pred_7_xgb, y_test))\n",
    "mae_7_rf = mean_absolute_error(y_pred_7_xgb, y_test)\n",
    "rmse_7_rf,mae_7_rf"
   ]
  },
  {
   "cell_type": "markdown",
   "metadata": {},
   "source": [
    "Se realizó una busqueda aleatoria con validación cruzada de los parámetros indicados obteniendo los siguientes valores:\n",
    "* learning_rate: 0.07\n",
    "* gamma: 0.75\n",
    "* colsample_bytree: 0.575\n",
    "\n",
    "Un learning_rate moderadamente bajo como 0.07 ayuda a encontrar un buen equilibrio entre la precisión y la generalización. Un gamma de 0.75 ayuda a controlar el sobreajuste al hacer que el algoritmo sea conservador en términos de crecimiento del árbol. Un valor de 0.575 indica que en cada iteración de construcción de árbol se selecciona el 57.5% de las características totales al azar, lo que ayuda a prevenir el sobreajuste ya que cada árbol en el ensamblaje se construye con una muestra diferente y posiblemente complementaria de características."
   ]
  },
  {
   "cell_type": "markdown",
   "metadata": {},
   "source": [
    "### Punto 8 - Comparación y análisis de resultados\n",
    "En la celda 8 comparen los resultados obtenidos de los diferentes modelos (random forest y XGBoost) y comenten las ventajas del mejor modelo y las desventajas del modelo con el menor desempeño."
   ]
  },
  {
   "cell_type": "code",
   "execution_count": 81,
   "metadata": {},
   "outputs": [
    {
     "data": {
      "image/png": "[encoded data removed]",
      "text/plain": [
       "<Figure size 720x360 with 1 Axes>"
      ]
     },
     "metadata": {
      "needs_background": "light"
     },
     "output_type": "display_data"
    },
    {
     "data": {
      "image/png": "[encoded data removed]",
      "text/plain": [
       "<Figure size 720x360 with 1 Axes>"
      ]
     },
     "metadata": {
      "needs_background": "light"
     },
     "output_type": "display_data"
    }
   ],
   "source": [
    "# Datos de RMSE y MAE\n",
    "modelos = ['Árbol Manual', 'Bagging Manual', 'Bagging con Librería','RandomForest con librería','RandomForest con calibración'\n",
    "           ,'XGBoost con librería','XGBoost con calibración']\n",
    "rmse = [rmse_arbol_manual, rmse_bagging_manual, rmse_bagging_libreria,rmse_4_rf,rmse_5_rf,rmse_6_rf,rmse_7_rf]\n",
    "mae = [mae_arbol_manual, mae_bagging_manual, mae_bagging_libreria,mae_4_rf,mae_5_rf,mae_6_rf,mae_7_rf]\n",
    "\n",
    "sorted_indices_rmse = sorted(range(len(rmse)), key=lambda k: rmse[k])\n",
    "sorted_indices_mae = sorted(range(len(mae)), key=lambda k: mae[k])\n",
    "\n",
    "sorted_modelos_rmse = [modelos[i] for i in sorted_indices_rmse]\n",
    "sorted_rmse = [rmse[i] for i in sorted_indices_rmse]\n",
    "\n",
    "sorted_modelos_mae = [modelos[i] for i in sorted_indices_mae]\n",
    "sorted_mae = [mae[i] for i in sorted_indices_mae]\n",
    "\n",
    "# Graficar RMSE \n",
    "plt.figure(figsize=(10, 5))\n",
    "plt.bar(sorted_modelos_rmse, sorted_rmse, color='skyblue')\n",
    "plt.xlabel('Modelo')\n",
    "plt.ylabel('RMSE')\n",
    "plt.title('RMSE de los Modelos')\n",
    "plt.xticks(rotation=45) \n",
    "for i in range(len(sorted_modelos_rmse)):\n",
    "    plt.text(i, sorted_rmse[i], str(round(sorted_rmse[i], 2)), ha='center', va='bottom')\n",
    "plt.show()\n",
    "\n",
    "# Graficar MAE \n",
    "plt.figure(figsize=(10, 5))\n",
    "plt.bar(sorted_modelos_mae, sorted_mae, color='salmon')\n",
    "plt.xlabel('Modelo')\n",
    "plt.ylabel('MAE')\n",
    "plt.title('MAE de los Modelos')\n",
    "plt.xticks(rotation=45) \n",
    "for i in range(len(sorted_modelos_mae)):\n",
    "    plt.text(i, sorted_mae[i], str(round(sorted_mae[i], 2)), ha='center', va='bottom')\n",
    "plt.show()\n",
    "\n"
   ]
  },
  {
   "cell_type": "markdown",
   "metadata": {},
   "source": [
    "El modelo con mejor desempeño en terminos de RMSE fue el XGBoost con calibración de parámetros con un resultado de 1542.42, y el modelo con menor desempeño en terminos de RMSE fue el Árbol con implementación manual con un resultado de 3751.06. Las ventajas del modelo de XGBoost son la capacidad de ensamblar múltiples árboles aplicando validación cruzada y técnicas de prevención del sobreajuste, además de representar un algoritmo más eficiente en términos de tiempo de entrenamiento y manejo de valores nulos. Las desventajas del modelo del árbol de decisión manual son que no representa ensamblaje de múltiples modelos y al ser una única configuración tienden a ser demasiado simples y pueden tener un sesgo considerable, lo que significa que pueden subestimar o sobreestimar la relación entre las características y la variable objetivo, lo que conlleva a predicciones inexactas, además que suelen tener una profundidad limitada debido a la complejidad de su construcción y la necesidad de interpretación humana."
   ]
  }
 ],
 "metadata": {
  "kernelspec": {
   "display_name": "Python 3 (ipykernel)",
   "language": "python",
   "name": "python3"
  },
  "language_info": {
   "codemirror_mode": {
    "name": "ipython",
    "version": 3
   },
   "file_extension": ".py",
   "mimetype": "text/x-python",
   "name": "python",
   "nbconvert_exporter": "python",
   "pygments_lexer": "ipython3",
   "version": "3.9.12"
  }
 },
 "nbformat": 4,
 "nbformat_minor": 4
}
